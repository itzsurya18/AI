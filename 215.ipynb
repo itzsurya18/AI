{
  "metadata": {
    "kernelspec": {
      "name": "python",
      "display_name": "Python (Pyodide)",
      "language": "python"
    },
    "language_info": {
      "codemirror_mode": {
        "name": "python",
        "version": 3
      },
      "file_extension": ".py",
      "mimetype": "text/x-python",
      "name": "python",
      "nbconvert_exporter": "python",
      "pygments_lexer": "ipython3",
      "version": "3.8"
    }
  },
  "nbformat_minor": 5,
  "nbformat": 4,
  "cells": [
    {
      "id": "460fc565-95a9-4e4f-940b-b1c8e5f3d79f",
      "cell_type": "code",
      "source": "name = \"SURYA\"\nage = 19\nheight = 6.0\nis_student = True\n\nprint(f\"My name is {name}, I am {age} years old, my height is {height} feet, and it is {is_student} that I am a student.\")",
      "metadata": {
        "trusted": true
      },
      "outputs": [
        {
          "name": "stdout",
          "output_type": "stream",
          "text": "My name is SURYA, I am 19 years old, my height is 6.0 feet, and it is True that I am a student.\n"
        }
      ],
      "execution_count": 1
    },
    {
      "id": "b24dfefe-a218-494d-8ab0-bec08764edd5",
      "cell_type": "code",
      "source": "try:\n    num = int(input[\"Enter an integer: \"])\n\n    if num > 0:\n        print(\"The number is positive.\")\n    elif num < 0:\n        print(\"The number is negative.\")\n    else:\n        print(\"The number is zero.\")\n        \nexcept ValueError:\n    print(\"Please enter a valid integer.\")\n",
      "metadata": {
        "trusted": true
      },
      "outputs": [
        {
          "ename": "<class 'TypeError'>",
          "evalue": "'function' object is not subscriptable",
          "traceback": [
            "\u001b[0;31m---------------------------------------------------------------------------\u001b[0m",
            "\u001b[0;31mTypeError\u001b[0m                                 Traceback (most recent call last)",
            "Cell \u001b[0;32mIn[9], line 2\u001b[0m\n\u001b[1;32m      1\u001b[0m \u001b[38;5;28;01mtry\u001b[39;00m:\n\u001b[0;32m----> 2\u001b[0m     num \u001b[38;5;241m=\u001b[39m \u001b[38;5;28mint\u001b[39m(\u001b[38;5;28;43minput\u001b[39;49m\u001b[43m[\u001b[49m\u001b[38;5;124;43m\"\u001b[39;49m\u001b[38;5;124;43mEnter an integer: \u001b[39;49m\u001b[38;5;124;43m\"\u001b[39;49m\u001b[43m]\u001b[49m)\n\u001b[1;32m      4\u001b[0m     \u001b[38;5;28;01mif\u001b[39;00m num \u001b[38;5;241m>\u001b[39m \u001b[38;5;241m0\u001b[39m:\n\u001b[1;32m      5\u001b[0m         \u001b[38;5;28mprint\u001b[39m(\u001b[38;5;124m\"\u001b[39m\u001b[38;5;124mThe number is positive.\u001b[39m\u001b[38;5;124m\"\u001b[39m)\n",
            "\u001b[0;31mTypeError\u001b[0m: 'function' object is not subscriptable"
          ],
          "output_type": "error"
        }
      ],
      "execution_count": 10
    },
    {
      "id": "d15d167e-f7af-469e-8774-0cccf68c78df",
      "cell_type": "code",
      "source": "num = int()(input(\"Enter a number: \"))\n\nfor i in range(1, 11):\n    print(f\"{num} x {i} = {num * i}\")",
      "metadata": {
        "trusted": true
      },
      "outputs": [
        {
          "ename": "<class 'TypeError'>",
          "evalue": "'int' object is not callable",
          "traceback": [
            "\u001b[0;31m---------------------------------------------------------------------------\u001b[0m",
            "\u001b[0;31mTypeError\u001b[0m                                 Traceback (most recent call last)",
            "Cell \u001b[0;32mIn[14], line 1\u001b[0m\n\u001b[0;32m----> 1\u001b[0m num \u001b[38;5;241m=\u001b[39m \u001b[38;5;28;43mint\u001b[39;49m\u001b[43m(\u001b[49m\u001b[43m)\u001b[49m\u001b[43m(\u001b[49m\u001b[38;5;28;43minput\u001b[39;49m\u001b[43m(\u001b[49m\u001b[38;5;124;43m\"\u001b[39;49m\u001b[38;5;124;43mEnter a number: \u001b[39;49m\u001b[38;5;124;43m\"\u001b[39;49m\u001b[43m)\u001b[49m\u001b[43m)\u001b[49m\n\u001b[1;32m      3\u001b[0m \u001b[38;5;28;01mfor\u001b[39;00m i \u001b[38;5;129;01min\u001b[39;00m \u001b[38;5;28mrange\u001b[39m(\u001b[38;5;241m1\u001b[39m, \u001b[38;5;241m11\u001b[39m):\n\u001b[1;32m      4\u001b[0m     \u001b[38;5;28mprint\u001b[39m(\u001b[38;5;124mf\u001b[39m\u001b[38;5;124m\"\u001b[39m\u001b[38;5;132;01m{\u001b[39;00mnum\u001b[38;5;132;01m}\u001b[39;00m\u001b[38;5;124m x \u001b[39m\u001b[38;5;132;01m{\u001b[39;00mi\u001b[38;5;132;01m}\u001b[39;00m\u001b[38;5;124m = \u001b[39m\u001b[38;5;132;01m{\u001b[39;00mnum\u001b[38;5;250m \u001b[39m\u001b[38;5;241m*\u001b[39m\u001b[38;5;250m \u001b[39mi\u001b[38;5;132;01m}\u001b[39;00m\u001b[38;5;124m\"\u001b[39m)\n",
            "\u001b[0;31mTypeError\u001b[0m: 'int' object is not callable"
          ],
          "output_type": "error"
        },
        {
          "output_type": "stream",
          "name": "stdin",
          "text": "Enter a number:  11\n"
        }
      ],
      "execution_count": 15
    },
    {
      "id": "71680d1d-28cb-4343-9c1a-40aa32146f9a",
      "cell_type": "code",
      "source": "  num = int(input(\"Enter a number: \"))\n\nfor i in range(1, 11):\n    print(f\"{num} x {i} = {num * i}\")",
      "metadata": {
        "trusted": true
      },
      "outputs": [
        {
          "ename": "<class 'TypeError'>",
          "evalue": "int() argument must be a string, a bytes-like object or a real number, not 'PyodideFuture'",
          "traceback": [
            "\u001b[0;31m---------------------------------------------------------------------------\u001b[0m",
            "\u001b[0;31mTypeError\u001b[0m                                 Traceback (most recent call last)",
            "Cell \u001b[0;32mIn[15], line 1\u001b[0m\n\u001b[0;32m----> 1\u001b[0m num \u001b[38;5;241m=\u001b[39m \u001b[38;5;28;43mint\u001b[39;49m\u001b[43m(\u001b[49m\u001b[38;5;28;43minput\u001b[39;49m\u001b[43m(\u001b[49m\u001b[38;5;124;43m\"\u001b[39;49m\u001b[38;5;124;43mEnter a number: \u001b[39;49m\u001b[38;5;124;43m\"\u001b[39;49m\u001b[43m)\u001b[49m\u001b[43m)\u001b[49m\n\u001b[1;32m      3\u001b[0m \u001b[38;5;28;01mfor\u001b[39;00m i \u001b[38;5;129;01min\u001b[39;00m \u001b[38;5;28mrange\u001b[39m(\u001b[38;5;241m1\u001b[39m, \u001b[38;5;241m11\u001b[39m):\n\u001b[1;32m      4\u001b[0m   \u001b[38;5;28mprint\u001b[39m(\u001b[38;5;124mf\u001b[39m\u001b[38;5;124m\"\u001b[39m\u001b[38;5;132;01m{\u001b[39;00mnum\u001b[38;5;132;01m}\u001b[39;00m\u001b[38;5;124m x \u001b[39m\u001b[38;5;132;01m{\u001b[39;00mi\u001b[38;5;132;01m}\u001b[39;00m\u001b[38;5;124m = \u001b[39m\u001b[38;5;132;01m{\u001b[39;00mnum\u001b[38;5;250m \u001b[39m\u001b[38;5;241m*\u001b[39m\u001b[38;5;250m \u001b[39mi\u001b[38;5;132;01m}\u001b[39;00m\u001b[38;5;124m\"\u001b[39m)\n",
            "\u001b[0;31mTypeError\u001b[0m: int() argument must be a string, a bytes-like object or a real number, not 'PyodideFuture'"
          ],
          "output_type": "error"
        },
        {
          "output_type": "stream",
          "name": "stdin",
          "text": "Enter a number:  12\n"
        }
      ],
      "execution_count": 16
    },
    {
      "id": "ca5a36ed-eaf3-4c2d-85f8-42582cf242ee",
      "cell_type": "code",
      "source": "fruits = [\"Apple\", \"Banana\", \"Cherry\", \"Mango\", \"Orange\"]\n\nfruits.append(\"Grapes\")\nfruits.remove(\"Banana\")\nfruits[2] = \"Pineapple\"\n\nprint(\"Updated fruit list:\", fruits)\nprint(\"First fruit:\", fruits[0])\nprint(\"Last fruit:\", fruits[-1])",
      "metadata": {
        "trusted": true
      },
      "outputs": [
        {
          "name": "stdout",
          "output_type": "stream",
          "text": "Updated fruit list: ['Apple', 'Cherry', 'Pineapple', 'Orange', 'Grapes']\nFirst fruit: Apple\nLast fruit: Grapes\n"
        }
      ],
      "execution_count": 17
    },
    {
      "id": "789a63c0-f43c-4d3a-b05e-a980c6cccc01",
      "cell_type": "code",
      "source": "numbers = (10, 20, 30, 40, 50)\n\nprint(\"Tuple:\", numbers)\nprint(\"First element:\", numbers[0])\nprint(\"Last element:\", numbers[-1])\nprint(\"Sum of all elements:\", sum(numbers))\nprint(\"Index of 30:\", numbers.index(30))",
      "metadata": {
        "trusted": true
      },
      "outputs": [
        {
          "name": "stdout",
          "output_type": "stream",
          "text": "Tuple: (10, 20, 30, 40, 50)\nFirst element: 10\nLast element: 50\nSum of all elements: 150\nIndex of 30: 2\n"
        }
      ],
      "execution_count": 18
    },
    {
      "id": "586b47cb-a340-4caf-96a1-fec4ecee6586",
      "cell_type": "code",
      "source": "students = {\"SURYA\": 85, \"SHYAM\": 92, \"ALFY\": 78}\n\nstudents[\"SURYA\"] = 88\nstudents[\"SHYAM\"] = 90\ndel students[\"ALFY\"]\n\nprint(\"Updated Dictionary:\", students)\nprint(\"Marks of SHYAM:\", students[\"SHYAM\"])\nprint(\"All student names:\", list(students.keys()))\nprint(\"All marks:\", list(students.values()))",
      "metadata": {
        "trusted": true
      },
      "outputs": [
        {
          "name": "stdout",
          "output_type": "stream",
          "text": "Updated Dictionary: {'SURYA': 88, 'SHYAM': 90}\nMarks of SHYAM: 90\nAll student names: ['SURYA', 'SHYAM']\nAll marks: [88, 90]\n"
        }
      ],
      "execution_count": 19
    },
    {
      "id": "91a21523-04e3-4bfb-aa94-db2f45f56b37",
      "cell_type": "code",
      "source": "set1 = {1, 2, 3, 4, 5}\nset2 = {4, 5, 6, 7, 8}\n\nunion_set = set1 | set2\nintersection_set = set1 & set2\ndifference_set = set1 - set2\nsymmetric_difference_set = set1 ^ set2\n\nprint(\"Union:\", union_set)\nprint(\"Intersection:\", intersection_set)\nprint(\"Difference (set1 - set2):\", difference_set)\nprint(\"Symmetric Difference:\", symmetric_difference_set)",
      "metadata": {
        "trusted": true
      },
      "outputs": [
        {
          "name": "stdout",
          "output_type": "stream",
          "text": "Union: {1, 2, 3, 4, 5, 6, 7, 8}\nIntersection: {4, 5}\nDifference (set1 - set2): {1, 2, 3}\nSymmetric Difference: {1, 2, 3, 6, 7, 8}\n"
        }
      ],
      "execution_count": 20
    },
    {
      "id": "c65678f2-866c-4f48-a138-9b9f62bb589d",
      "cell_type": "code",
      "source": "def find_largest(numbers):\n    return max(numbers)\n\nsample_list = [10, 25, 67, 89, 45]\nlargest_number = find_largest(sample_list)\n\nprint(\"Largest number:\", largest_number)",
      "metadata": {
        "trusted": true
      },
      "outputs": [
        {
          "name": "stdout",
          "output_type": "stream",
          "text": "Largest number: 89\n"
        }
      ],
      "execution_count": 21
    },
    {
      "id": "43a4f18d-41e1-448e-9e31-08f843d00a99",
      "cell_type": "code",
      "source": "squares = [x**2 for x in range(2, 21, 2)]\nprint(\"Squares of even numbers:\", squares)",
      "metadata": {
        "trusted": true
      },
      "outputs": [
        {
          "name": "stdout",
          "output_type": "stream",
          "text": "Squares of even numbers: [4, 16, 36, 64, 100, 144, 196, 256, 324, 400]\n"
        }
      ],
      "execution_count": 23
    },
    {
      "id": "73ffca02-d8ad-40fd-b876-ff92896c1cdd",
      "cell_type": "code",
      "source": "product = lambda a, b: a * b\n\nnum1 = int(input(\"Enter first number: \"))\nnum2 = int(input(\"Enter second number: \"))\n\nprint(\"Product:\", product(num1, num2))",
      "metadata": {
        "trusted": true
      },
      "outputs": [
        {
          "ename": "<class 'TypeError'>",
          "evalue": "int() argument must be a string, a bytes-like object or a real number, not 'PyodideFuture'",
          "traceback": [
            "\u001b[0;31m---------------------------------------------------------------------------\u001b[0m",
            "\u001b[0;31mTypeError\u001b[0m                                 Traceback (most recent call last)",
            "Cell \u001b[0;32mIn[24], line 3\u001b[0m\n\u001b[1;32m      1\u001b[0m product \u001b[38;5;241m=\u001b[39m \u001b[38;5;28;01mlambda\u001b[39;00m a, b: a \u001b[38;5;241m*\u001b[39m b\n\u001b[0;32m----> 3\u001b[0m num1 \u001b[38;5;241m=\u001b[39m \u001b[38;5;28;43mint\u001b[39;49m\u001b[43m(\u001b[49m\u001b[38;5;28;43minput\u001b[39;49m\u001b[43m(\u001b[49m\u001b[38;5;124;43m\"\u001b[39;49m\u001b[38;5;124;43mEnter first number: \u001b[39;49m\u001b[38;5;124;43m\"\u001b[39;49m\u001b[43m)\u001b[49m\u001b[43m)\u001b[49m\n\u001b[1;32m      4\u001b[0m num2 \u001b[38;5;241m=\u001b[39m \u001b[38;5;28mint\u001b[39m(\u001b[38;5;28minput\u001b[39m(\u001b[38;5;124m\"\u001b[39m\u001b[38;5;124mEnter second number: \u001b[39m\u001b[38;5;124m\"\u001b[39m))\n\u001b[1;32m      6\u001b[0m \u001b[38;5;28mprint\u001b[39m(\u001b[38;5;124m\"\u001b[39m\u001b[38;5;124mProduct:\u001b[39m\u001b[38;5;124m\"\u001b[39m, product(num1, num2))\n",
            "\u001b[0;31mTypeError\u001b[0m: int() argument must be a string, a bytes-like object or a real number, not 'PyodideFuture'"
          ],
          "output_type": "error"
        },
        {
          "output_type": "stream",
          "name": "stdin",
          "text": "Enter first number:  1\n"
        }
      ],
      "execution_count": 25
    },
    {
      "id": "f6f5ec28-b4eb-48a5-948e-339e91bdfbb8",
      "cell_type": "code",
      "source": "import numpy as np\n\none_d = np.array([1, 2, 3, 4, 5])\ntwo_d = np.array([[1, 2, 3], [4, 5, 6]])\nthree_d = np.array([[[1, 2], [3, 4]], [[5, 6], [7, 8]]])\n\nprint(\"1D Array:\\n\", one_d)\nprint(\"Shape:\", one_d.shape, \"Dimensions:\", one_d.ndim)\n\nprint(\"\\n2D Array:\\n\", two_d)\nprint(\"Shape:\", two_d.shape, \"Dimensions:\", two_d.ndim)\n\nprint(\"\\n3D Array:\\n\", three_d)\nprint(\"Shape:\", three_d.shape, \"Dimensions:\", three_d.ndim)",
      "metadata": {
        "trusted": true
      },
      "outputs": [
        {
          "name": "stdout",
          "output_type": "stream",
          "text": "1D Array:\n [1 2 3 4 5]\nShape: (5,) Dimensions: 1\n\n2D Array:\n [[1 2 3]\n [4 5 6]]\nShape: (2, 3) Dimensions: 2\n\n3D Array:\n [[[1 2]\n  [3 4]]\n\n [[5 6]\n  [7 8]]]\nShape: (2, 2, 2) Dimensions: 3\n"
        }
      ],
      "execution_count": 27
    },
    {
      "id": "59a73763-6209-48ca-a905-fd8d42f98e14",
      "cell_type": "code",
      "source": "import numpy as np\n\narray = np.random.randint(1, 100, (5, 5))\n\nprint(\"5x5 Random Integer Array:\\n\", array)\n\nprint(\"\\nElement at row 2, column 3:\", array[1, 2])\nprint(\"First row:\", array[0])\nprint(\"Last column:\", array[:, -1])\nprint(\"Subarray (rows 2-4, columns 1-3):\\n\", array[1:4, 0:3])",
      "metadata": {
        "trusted": true
      },
      "outputs": [
        {
          "name": "stdout",
          "output_type": "stream",
          "text": "5x5 Random Integer Array:\n [[19 86 21 20  2]\n [40 86 52 54 69]\n [59 92 13 80 34]\n [43 42 75  5  4]\n [40 62 12  6 66]]\n\n 52ment at row 2, column 3:\nFirst row: [19 86 21 20  2]\nLast column: [ 2 69 34  4 66]\nSubarray (rows 2-4, columns 1-3):\n [[40 86 52]\n [59 92 13]\n [43 42 75]]\n"
        }
      ],
      "execution_count": 28
    },
    {
      "id": "d31d95ef-101c-4f0d-a8d2-b592fb1181c4",
      "cell_type": "code",
      "source": "import numpy as np\n\narray = np.arange(1, 17).reshape(4, 4)\n\nprint(\"Original 4x4 Array:\\n\", array)\n\nprint(\"\\nFirst two rows:\\n\", array[:2])\nprint(\"\\nLast two columns:\\n\", array[:, -2:])\nprint(\"\\nSubarray (middle 2x2 block):\\n\", array[1:3, 1:3])\nprint(\"\\nElements from second and fourth row, first and third column:\\n\", array[[1, 3], [0, 2]])",
      "metadata": {
        "trusted": true
      },
      "outputs": [
        {
          "name": "stdout",
          "output_type": "stream",
          "text": "Original 4x4 Array:\n [[ 1  2  3  4]\n [ 5  6  7  8]\n [ 9 10 11 12]\n [13 14 15 16]]\n\nFirst two rows:\n [[1 2 3 4]\n [5 6 7 8]]\n\nLast two columns:\n [[ 3  4]\n [ 7  8]\n [11 12]\n [15 16]]\n\nSubarray (middle 2x2 block):\n [[ 6  7]\n [10 11]]\n\nElements from second and fourth row, first and third column:\n [ 5 15]\n"
        }
      ],
      "execution_count": 29
    },
    {
      "id": "669ffde0-9595-4317-820a-790d2b2fc1fa",
      "cell_type": "code",
      "source": "import numpy as np\n\narray_2d = np.arange(1, 13).reshape(6, 2)\narray_3d = array_2d.reshape(2, 3, 2)\nflattened_array = array_3d.flatten()\n\nprint(\"Original 2D Array (6x2):\\n\", array_2d)\nprint(\"\\nReshaped 3D Array (2x3x2):\\n\", array_3d)\nprint(\"\\nFlattened Array:\\n\", flattened_array)",
      "metadata": {
        "trusted": true
      },
      "outputs": [
        {
          "name": "stdout",
          "output_type": "stream",
          "text": "Original 2D Array (6x2):\n [[ 1  2]\n [ 3  4]\n [ 5  6]\n [ 7  8]\n [ 9 10]\n [11 12]]\n\nReshaped 3D Array (2x3x2):\n [[[ 1  2]\n  [ 3  4]\n  [ 5  6]]\n\n [[ 7  8]\n  [ 9 10]\n  [11 12]]]\n\nFlattened Array:\n [ 1  2  3  4  5  6  7  8  9 10 11 12]\n"
        }
      ],
      "execution_count": 30
    },
    {
      "id": "0c012ba8-5101-4c57-a2e0-bafd6d6dc499",
      "cell_type": "code",
      "source": "import numpy as np\n\narray_2d = np.array([[1, 2, 3], [4, 5, 6], [7, 8, 9]])\narray_1d = np.array([10, 20, 30])\n\nresult = array_2d + array_1d\n\nprint(\"Original 2D Array:\\n\", array_2d)\nprint(\"\\n1D Array:\\n\", array_1d)\nprint(\"\\nResult After Broadcasting:\\n\", result)",
      "metadata": {
        "trusted": true
      },
      "outputs": [
        {
          "name": "stdout",
          "output_type": "stream",
          "text": "Original 2D Array:\n [[1 2 3]\n [4 5 6]\n [7 8 9]]\n\n1D Array:\n [10 20 30]\n\nResult After Broadcasting:\n [[11 22 33]\n [14 25 36]\n [17 28 39]]\n"
        }
      ],
      "execution_count": 31
    },
    {
      "id": "22329923-e8b1-4ea5-94e5-89035da76e4a",
      "cell_type": "code",
      "source": "import numpy as np\n\nA = np.array([[2, 4, 6], [8, 10, 12], [14, 16, 18]])\nB = np.array([[1, 2, 3], [4, 5, 6], [7, 8, 9]])\n\naddition = A + B\nsubtraction = A - B\nmultiplication = A * B\ndivision = A / B\n\nprint(\"Element-wise Addition:\\n\", addition)\nprint(\"\\nElement-wise Subtraction:\\n\", subtraction)\nprint(\"\\nElement-wise Multiplication:\\n\", multiplication)\nprint(\"\\nElement-wise Division:\\n\", division)",
      "metadata": {
        "trusted": true
      },
      "outputs": [
        {
          "name": "stdout",
          "output_type": "stream",
          "text": "Element-wise Addition:\n [[ 3  6  9]\n [12 15 18]\n [21 24 27]]\n\nElement-wise Subtraction:\n [[1 2 3]\n [4 5 6]\n [7 8 9]]\n\nElement-wise Multiplication:\n [[  2   8  18]\n [ 32  50  72]\n [ 98 128 162]]\n\nElement-wise Division:\n [[2. 2. 2.]\n [2. 2. 2.]\n [2. 2. 2.]]\n"
        }
      ],
      "execution_count": 32
    },
    {
      "id": "8c4102b3-3a92-4590-8e5a-5e367ec0b90c",
      "cell_type": "code",
      "source": "import pandas as pd\n\ndata = {\n    \"Name\": [\"Alice\", \"Bob\", \"Charlie\"],\n    \"Math\": [85, 78, 92],\n    \"Science\": [88, 74, 95],\n    \"English\": [90, 80, 85]\n}\n\ndf = pd.DataFrame(data)\n\ndf[\"Total\"] = df[\"Math\"] + df[\"Science\"] + df[\"English\"]\n\ndef assign_grade(total):\n    if total >= 270:\n        return \"A\"\n    elif total >= 240:\n        return \"B\"\n    elif total >= 210:\n        return \"C\"\n    else:\n        return \"D\"\n\ndf[\"Grade\"] = df[\"Total\"].apply(assign_grade)\n\nprint(df)",
      "metadata": {
        "trusted": true
      },
      "outputs": [
        {
          "name": "stdout",
          "output_type": "stream",
          "text": "      Name  Math  Science  English  Total Grade\n0    Alice    85       88       90    263     B\n1      Bob    78       74       80    232     C\n2  Charlie    92       95       85    272     A\n"
        }
      ],
      "execution_count": 33
    },
    {
      "id": "a3171110-8f55-4284-aa6a-bcaa6e00dac4",
      "cell_type": "code",
      "source": "import pandas as pd\nimport numpy as np\nimport matplotlib.pyplot as plt\nimport seaborn as sns\ndf = pd.read_csv(\"RB\") \nprint(df.head())\naverage_conversations = df[\"Interaction_Count\"].mean()\nprint(f\"Average Daily Conversations: {average_conversations}\")\ntotal_steps = df[\"Steps_Walked\"].sum()\nprint(f\"Total Steps Walked: {total_steps}\")\nmax_energy = df[\"Energy_Consumption (kWh)\"].max()\nmin_energy = df[\"Energy_Consumption (kWh)\"].min()\nprint(f\"Maximum Energy Consumption: {max_energy} kWh\")\nprint(f\"Minimum Energy Consumption: {min_energy} kWh\")\ncorrelation = df[\"Steps_Walked\"].corr(df[\"Energy_Consumption (kWh)\"])\nprint(f\"Correlation between Steps Walked and Energy Consumption: {correlation}\")\nplt.figure(figsize=(12, 5))\nsns.histplot(df[\"Objects_Recognized\"], bins=10, kde=True, color='blue')\nplt.title(\"Distribution of Objects Recognized Daily\")\nplt.xlabel(\"Objects Recognized\")\nplt.ylabel(\"Frequency\")\nplt.grid(True)\nplt.show()\nplt.figure(figsize=(6, 4))\nsns.boxplot(y=df[\"Objects_Recognized\"], color=\"orange\")\nplt.title(\"Box Plot of Objects Recognized\")\nplt.ylabel(\"Objects Recognized\")\nplt.grid(True)\nplt.show()\nlearning_sessions_variance = df[\"Learning_Sessions\"].var()\nprint(f\"Variance in Learning Sessions: {learning_sessions_variance}\")",
      "metadata": {
        "trusted": true
      },
      "outputs": [
        {
          "ename": "<class 'ModuleNotFoundError'>",
          "evalue": "No module named 'seaborn'",
          "traceback": [
            "\u001b[0;31m---------------------------------------------------------------------------\u001b[0m",
            "\u001b[0;31mModuleNotFoundError\u001b[0m                       Traceback (most recent call last)",
            "Cell \u001b[0;32mIn[36], line 4\u001b[0m\n\u001b[1;32m      2\u001b[0m \u001b[38;5;28;01mimport\u001b[39;00m \u001b[38;5;21;01mnumpy\u001b[39;00m \u001b[38;5;28;01mas\u001b[39;00m \u001b[38;5;21;01mnp\u001b[39;00m\n\u001b[1;32m      3\u001b[0m \u001b[38;5;28;01mimport\u001b[39;00m \u001b[38;5;21;01mmatplotlib\u001b[39;00m\u001b[38;5;21;01m.\u001b[39;00m\u001b[38;5;21;01mpyplot\u001b[39;00m \u001b[38;5;28;01mas\u001b[39;00m \u001b[38;5;21;01mplt\u001b[39;00m\n\u001b[0;32m----> 4\u001b[0m \u001b[38;5;28;01mimport\u001b[39;00m \u001b[38;5;21;01mseaborn\u001b[39;00m \u001b[38;5;28;01mas\u001b[39;00m \u001b[38;5;21;01msns\u001b[39;00m\n\u001b[1;32m      5\u001b[0m df \u001b[38;5;241m=\u001b[39m pd\u001b[38;5;241m.\u001b[39mread_csv(\u001b[38;5;124m\"\u001b[39m\u001b[38;5;124mRB\u001b[39m\u001b[38;5;124m\"\u001b[39m) \n\u001b[1;32m      6\u001b[0m \u001b[38;5;28mprint\u001b[39m(df\u001b[38;5;241m.\u001b[39mhead())\n",
            "\u001b[0;31mModuleNotFoundError\u001b[0m: No module named 'seaborn'"
          ],
          "output_type": "error"
        }
      ],
      "execution_count": 37
    },
    {
      "id": "59ae5cf5-bc52-453d-8d2d-a6823af95ed3",
      "cell_type": "code",
      "source": "",
      "metadata": {
        "trusted": true
      },
      "outputs": [],
      "execution_count": null
    }
  ]
}